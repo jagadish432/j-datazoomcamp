{
 "cells": [
  {
   "cell_type": "code",
   "execution_count": null,
   "id": "968bd492",
   "metadata": {},
   "outputs": [],
   "source": [
    "# THIS IS NOT A PYTHON FILE ACTUALLY, RATHER JUST A NOTES ONLY"
   ]
  },
  {
   "cell_type": "code",
   "execution_count": 2,
   "id": "1a646993",
   "metadata": {},
   "outputs": [
    {
     "ename": "SyntaxError",
     "evalue": "cannot assign to operator (174324277.py, line 1)",
     "output_type": "error",
     "traceback": [
      "\u001b[0;36m  File \u001b[0;32m\"/tmp/ipykernel_17473/174324277.py\"\u001b[0;36m, line \u001b[0;32m1\u001b[0m\n\u001b[0;31m    spark-submit --master=URL \\\u001b[0m\n\u001b[0m    ^\u001b[0m\n\u001b[0;31mSyntaxError\u001b[0m\u001b[0;31m:\u001b[0m cannot assign to operator\n"
     ]
    }
   ],
   "source": [
    "# we need to run this command on a terminal ONLY\n",
    "# we must make sure spark master and worker is running in the local already, and grab the master's URL\n",
    "\n",
    "URL=\"spark://de-zoomcap.asia-south1-c.c.datazoomcamp-375017.internal:7077\"\n",
    "spark-submit --master=\"${URL}\" \\\n",
    "    spark-local-cluster.py \\\n",
    "    --input_green=data/pq/green/2021/* \\\n",
    "    --input_yellow=data/pq/yellow/2021/* \\\n",
    "    --output=data/report/revenue-2021"
   ]
  },
  {
   "cell_type": "code",
   "execution_count": null,
   "id": "fa37b3f3",
   "metadata": {},
   "outputs": [],
   "source": []
  }
 ],
 "metadata": {
  "kernelspec": {
   "display_name": "Python 3 (ipykernel)",
   "language": "python",
   "name": "python3"
  },
  "language_info": {
   "codemirror_mode": {
    "name": "ipython",
    "version": 3
   },
   "file_extension": ".py",
   "mimetype": "text/x-python",
   "name": "python",
   "nbconvert_exporter": "python",
   "pygments_lexer": "ipython3",
   "version": "3.9.13"
  }
 },
 "nbformat": 4,
 "nbformat_minor": 5
}
