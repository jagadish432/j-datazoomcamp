{
 "cells": [
  {
   "cell_type": "code",
   "execution_count": 22,
   "id": "b0b1d950",
   "metadata": {},
   "outputs": [
    {
     "ename": "AttributeError",
     "evalue": "'Builder' object has no attribute 'onlyCreate'",
     "output_type": "error",
     "traceback": [
      "\u001b[0;31m---------------------------------------------------------------------------\u001b[0m",
      "\u001b[0;31mAttributeError\u001b[0m                            Traceback (most recent call last)",
      "\u001b[0;32m/tmp/ipykernel_32177/4280581351.py\u001b[0m in \u001b[0;36m<module>\u001b[0;34m\u001b[0m\n\u001b[1;32m      2\u001b[0m \u001b[0;32mfrom\u001b[0m \u001b[0mpyspark\u001b[0m\u001b[0;34m.\u001b[0m\u001b[0msql\u001b[0m \u001b[0;32mimport\u001b[0m \u001b[0mSparkSession\u001b[0m\u001b[0;34m\u001b[0m\u001b[0;34m\u001b[0m\u001b[0m\n\u001b[1;32m      3\u001b[0m \u001b[0;34m\u001b[0m\u001b[0m\n\u001b[0;32m----> 4\u001b[0;31m \u001b[0mspark\u001b[0m \u001b[0;34m=\u001b[0m \u001b[0mSparkSession\u001b[0m\u001b[0;34m.\u001b[0m\u001b[0mbuilder\u001b[0m\u001b[0;34m.\u001b[0m\u001b[0mmaster\u001b[0m\u001b[0;34m(\u001b[0m\u001b[0;34m\"local[*]\"\u001b[0m\u001b[0;34m)\u001b[0m\u001b[0;34m.\u001b[0m\u001b[0mappName\u001b[0m\u001b[0;34m(\u001b[0m\u001b[0;34m'groupBy_and_join'\u001b[0m\u001b[0;34m)\u001b[0m\u001b[0;34m.\u001b[0m\u001b[0monlyCreate\u001b[0m\u001b[0;34m(\u001b[0m\u001b[0;34m)\u001b[0m\u001b[0;34m\u001b[0m\u001b[0;34m\u001b[0m\u001b[0m\n\u001b[0m",
      "\u001b[0;31mAttributeError\u001b[0m: 'Builder' object has no attribute 'onlyCreate'"
     ]
    }
   ],
   "source": [
    "import pyspark\n",
    "from pyspark.sql import SparkSession\n",
    "\n",
    "spark = SparkSession.builder.master(\"local[*]\").appName('groupBy_and_join').onlyCreate()"
   ]
  },
  {
   "cell_type": "code",
   "execution_count": 14,
   "id": "34f05ba3",
   "metadata": {},
   "outputs": [],
   "source": [
    "df_green = spark.read.parquet('data/pq/green/*/*')"
   ]
  },
  {
   "cell_type": "code",
   "execution_count": 15,
   "id": "e77b37ae",
   "metadata": {},
   "outputs": [
    {
     "name": "stderr",
     "output_type": "stream",
     "text": [
      "/home/jagadish/spark/spark-3.3.2-bin-hadoop3/python/pyspark/sql/dataframe.py:229: FutureWarning: Deprecated in 2.0, use createOrReplaceTempView instead.\n",
      "  warnings.warn(\"Deprecated in 2.0, use createOrReplaceTempView instead.\", FutureWarning)\n"
     ]
    }
   ],
   "source": [
    "df_green.registerTempTable('green')"
   ]
  },
  {
   "cell_type": "code",
   "execution_count": 16,
   "id": "a57b8738",
   "metadata": {},
   "outputs": [],
   "source": [
    "df_green_revenue = spark.sql(\"\"\"\n",
    "\n",
    "select \n",
    "    PULocationID as zone,\n",
    "    date_trunc('hour', lpep_pickup_datetime) as hour,\n",
    "    SUM(total_amount) as amount,\n",
    "    count(1) as records\n",
    "FROM\n",
    "    green\n",
    "where \n",
    "    lpep_pickup_datetime >= '2020-01-01 00:00:00'\n",
    "Group By \n",
    "    1, 2\n",
    "order by\n",
    "    2, 1\n",
    "\"\"\")"
   ]
  },
  {
   "cell_type": "code",
   "execution_count": 17,
   "id": "44ac3fba",
   "metadata": {},
   "outputs": [
    {
     "name": "stderr",
     "output_type": "stream",
     "text": [
      "[Stage 19:===========================================>              (3 + 1) / 4]\r"
     ]
    },
    {
     "name": "stdout",
     "output_type": "stream",
     "text": [
      "+----+-------------------+------------------+-------+\n",
      "|zone|               hour|            amount|records|\n",
      "+----+-------------------+------------------+-------+\n",
      "|   7|2020-01-01 00:00:00| 769.7299999999996|     45|\n",
      "|  17|2020-01-01 00:00:00|195.03000000000003|      9|\n",
      "|  18|2020-01-01 00:00:00|               7.8|      1|\n",
      "|  22|2020-01-01 00:00:00|              15.8|      1|\n",
      "|  24|2020-01-01 00:00:00|              87.6|      3|\n",
      "|  25|2020-01-01 00:00:00| 531.0000000000002|     26|\n",
      "|  29|2020-01-01 00:00:00|              61.3|      1|\n",
      "|  32|2020-01-01 00:00:00| 68.94999999999999|      2|\n",
      "|  33|2020-01-01 00:00:00|317.27000000000004|     11|\n",
      "|  35|2020-01-01 00:00:00|            129.96|      5|\n",
      "|  36|2020-01-01 00:00:00|295.34000000000003|     11|\n",
      "|  37|2020-01-01 00:00:00|            175.67|      6|\n",
      "|  38|2020-01-01 00:00:00| 98.78999999999999|      2|\n",
      "|  40|2020-01-01 00:00:00|168.97999999999996|      8|\n",
      "|  41|2020-01-01 00:00:00|1363.9599999999987|     84|\n",
      "|  42|2020-01-01 00:00:00| 799.7599999999994|     52|\n",
      "|  43|2020-01-01 00:00:00|            107.52|      6|\n",
      "|  47|2020-01-01 00:00:00|              13.3|      1|\n",
      "|  49|2020-01-01 00:00:00|266.76000000000005|     14|\n",
      "|  51|2020-01-01 00:00:00|              17.8|      2|\n",
      "+----+-------------------+------------------+-------+\n",
      "only showing top 20 rows\n",
      "\n"
     ]
    },
    {
     "name": "stderr",
     "output_type": "stream",
     "text": [
      "\r",
      "                                                                                \r"
     ]
    }
   ],
   "source": [
    "df_green_revenue.show()"
   ]
  },
  {
   "cell_type": "code",
   "execution_count": 19,
   "id": "b8ace74f",
   "metadata": {},
   "outputs": [
    {
     "name": "stderr",
     "output_type": "stream",
     "text": [
      "                                                                                \r"
     ]
    }
   ],
   "source": [
    "df_green_revenue.write.parquet('data/report/revenue/green', mode='overwrite')"
   ]
  },
  {
   "cell_type": "code",
   "execution_count": null,
   "id": "c37ffe9f",
   "metadata": {},
   "outputs": [],
   "source": []
  }
 ],
 "metadata": {
  "kernelspec": {
   "display_name": "Python 3 (ipykernel)",
   "language": "python",
   "name": "python3"
  },
  "language_info": {
   "codemirror_mode": {
    "name": "ipython",
    "version": 3
   },
   "file_extension": ".py",
   "mimetype": "text/x-python",
   "name": "python",
   "nbconvert_exporter": "python",
   "pygments_lexer": "ipython3",
   "version": "3.9.13"
  }
 },
 "nbformat": 4,
 "nbformat_minor": 5
}
