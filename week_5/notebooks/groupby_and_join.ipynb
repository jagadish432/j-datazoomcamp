{
 "cells": [
  {
   "cell_type": "code",
   "execution_count": 2,
   "id": "b0b1d950",
   "metadata": {},
   "outputs": [
    {
     "name": "stderr",
     "output_type": "stream",
     "text": [
      "Setting default log level to \"WARN\".\n",
      "To adjust logging level use sc.setLogLevel(newLevel). For SparkR, use setLogLevel(newLevel).\n"
     ]
    },
    {
     "name": "stdout",
     "output_type": "stream",
     "text": [
      "23/03/11 18:58:30 WARN NativeCodeLoader: Unable to load native-hadoop library for your platform... using builtin-java classes where applicable\n"
     ]
    }
   ],
   "source": [
    "import pyspark\n",
    "from pyspark.sql import SparkSession\n",
    "\n",
    "spark = SparkSession.builder.master(\"local[*]\").appName('groupBy_and_join').getOrCreate()"
   ]
  },
  {
   "cell_type": "code",
   "execution_count": 3,
   "id": "34f05ba3",
   "metadata": {},
   "outputs": [
    {
     "name": "stderr",
     "output_type": "stream",
     "text": [
      "                                                                                \r"
     ]
    }
   ],
   "source": [
    "df_green = spark.read.parquet('data/pq/green/*/*')"
   ]
  },
  {
   "cell_type": "code",
   "execution_count": 4,
   "id": "e77b37ae",
   "metadata": {},
   "outputs": [
    {
     "name": "stderr",
     "output_type": "stream",
     "text": [
      "/home/jagadish/spark/spark-3.3.2-bin-hadoop3/python/pyspark/sql/dataframe.py:229: FutureWarning: Deprecated in 2.0, use createOrReplaceTempView instead.\n",
      "  warnings.warn(\"Deprecated in 2.0, use createOrReplaceTempView instead.\", FutureWarning)\n"
     ]
    }
   ],
   "source": [
    "df_green.registerTempTable('green')"
   ]
  },
  {
   "cell_type": "code",
   "execution_count": 5,
   "id": "a57b8738",
   "metadata": {},
   "outputs": [],
   "source": [
    "df_green_revenue = spark.sql(\"\"\"\n",
    "\n",
    "select \n",
    "    PULocationID as zone,\n",
    "    date_trunc('hour', lpep_pickup_datetime) as hour,\n",
    "    SUM(total_amount) as amount,\n",
    "    count(1) as records\n",
    "FROM\n",
    "    green\n",
    "where \n",
    "    lpep_pickup_datetime >= '2020-01-01 00:00:00'\n",
    "Group By \n",
    "    1, 2\n",
    "order by\n",
    "    2, 1\n",
    "\"\"\")"
   ]
  },
  {
   "cell_type": "code",
   "execution_count": 6,
   "id": "44ac3fba",
   "metadata": {},
   "outputs": [
    {
     "name": "stderr",
     "output_type": "stream",
     "text": [
      "[Stage 3:>                                                          (0 + 4) / 4]\r"
     ]
    },
    {
     "name": "stdout",
     "output_type": "stream",
     "text": [
      "+----+-------------------+------------------+-------+\n",
      "|zone|               hour|            amount|records|\n",
      "+----+-------------------+------------------+-------+\n",
      "|   7|2020-01-01 00:00:00| 769.7299999999996|     45|\n",
      "|  17|2020-01-01 00:00:00|195.03000000000003|      9|\n",
      "|  18|2020-01-01 00:00:00|               7.8|      1|\n",
      "|  22|2020-01-01 00:00:00|              15.8|      1|\n",
      "|  24|2020-01-01 00:00:00|              87.6|      3|\n",
      "|  25|2020-01-01 00:00:00| 531.0000000000002|     26|\n",
      "|  29|2020-01-01 00:00:00|              61.3|      1|\n",
      "|  32|2020-01-01 00:00:00| 68.94999999999999|      2|\n",
      "|  33|2020-01-01 00:00:00|317.27000000000004|     11|\n",
      "|  35|2020-01-01 00:00:00|            129.96|      5|\n",
      "|  36|2020-01-01 00:00:00|295.34000000000003|     11|\n",
      "|  37|2020-01-01 00:00:00|            175.67|      6|\n",
      "|  38|2020-01-01 00:00:00| 98.78999999999999|      2|\n",
      "|  40|2020-01-01 00:00:00|168.97999999999996|      8|\n",
      "|  41|2020-01-01 00:00:00|1363.9599999999987|     84|\n",
      "|  42|2020-01-01 00:00:00| 799.7599999999994|     52|\n",
      "|  43|2020-01-01 00:00:00|            107.52|      6|\n",
      "|  47|2020-01-01 00:00:00|              13.3|      1|\n",
      "|  49|2020-01-01 00:00:00|266.76000000000005|     14|\n",
      "|  51|2020-01-01 00:00:00|              17.8|      2|\n",
      "+----+-------------------+------------------+-------+\n",
      "only showing top 20 rows\n",
      "\n"
     ]
    },
    {
     "name": "stderr",
     "output_type": "stream",
     "text": [
      "\r",
      "[Stage 3:=============================>                             (2 + 2) / 4]\r",
      "\r",
      "                                                                                \r"
     ]
    }
   ],
   "source": [
    "df_green_revenue.show()"
   ]
  },
  {
   "cell_type": "code",
   "execution_count": 8,
   "id": "b8ace74f",
   "metadata": {},
   "outputs": [
    {
     "name": "stderr",
     "output_type": "stream",
     "text": [
      "                                                                                \r"
     ]
    }
   ],
   "source": [
    "df_green_revenue.repartition(20).write.parquet('data/report/revenue/green', mode='overwrite')"
   ]
  },
  {
   "cell_type": "code",
   "execution_count": 9,
   "id": "c37ffe9f",
   "metadata": {},
   "outputs": [
    {
     "name": "stderr",
     "output_type": "stream",
     "text": [
      "/home/jagadish/spark/spark-3.3.2-bin-hadoop3/python/pyspark/sql/dataframe.py:229: FutureWarning: Deprecated in 2.0, use createOrReplaceTempView instead.\n",
      "  warnings.warn(\"Deprecated in 2.0, use createOrReplaceTempView instead.\", FutureWarning)\n"
     ]
    }
   ],
   "source": [
    "df_yellow = spark.read.parquet('data/pq/yellow/*/*')\n",
    "df_yellow.registerTempTable('yellow')\n",
    "\n",
    "df_yellow_revenue = spark.sql(\"\"\"\n",
    "\n",
    "select \n",
    "    PULocationID as zone,\n",
    "    date_trunc('hour', tpep_pickup_datetime) as hour,\n",
    "    SUM(total_amount) as amount,\n",
    "    count(1) as records\n",
    "FROM\n",
    "    yellow\n",
    "where \n",
    "    tpep_pickup_datetime >= '2020-01-01 00:00:00'\n",
    "Group By \n",
    "    1, 2\n",
    "order by\n",
    "    2, 1\n",
    "\"\"\")\n"
   ]
  },
  {
   "cell_type": "code",
   "execution_count": 10,
   "id": "5abbf911",
   "metadata": {},
   "outputs": [
    {
     "name": "stderr",
     "output_type": "stream",
     "text": [
      "                                                                                \r"
     ]
    }
   ],
   "source": [
    "df_yellow_revenue.repartition(20).write.parquet('data/report/revenue/yellow', mode='overwrite')"
   ]
  },
  {
   "cell_type": "code",
   "execution_count": 11,
   "id": "b4c2d39d",
   "metadata": {},
   "outputs": [],
   "source": [
    "df_join = df_green_revenue.join(df_yellow_revenue, on=['hour', 'zone'], how='outer')"
   ]
  },
  {
   "cell_type": "code",
   "execution_count": 12,
   "id": "629abdb7",
   "metadata": {},
   "outputs": [
    {
     "name": "stderr",
     "output_type": "stream",
     "text": [
      "[Stage 41:>                                                         (0 + 1) / 1]\r"
     ]
    },
    {
     "name": "stdout",
     "output_type": "stream",
     "text": [
      "+-------------------+----+------+-------+------------------+-------+\n",
      "|               hour|zone|amount|records|            amount|records|\n",
      "+-------------------+----+------+-------+------------------+-------+\n",
      "|2020-01-01 05:00:00|   1|  null|   null|              40.3|      1|\n",
      "|2020-01-01 07:00:00|   1|  null|   null|              0.31|      1|\n",
      "|2020-01-01 11:00:00|   1|  null|   null|              90.3|      1|\n",
      "|2020-01-01 12:00:00|   1|  null|   null|            266.66|      3|\n",
      "|2020-01-01 15:00:00|   1|  null|   null|            315.21|      4|\n",
      "|2020-01-01 18:00:00|   1|  null|   null|            400.41|      3|\n",
      "|2020-01-02 01:00:00|   1|  null|   null|             84.36|      1|\n",
      "|2020-01-02 06:00:00|   1|  null|   null|            249.95|      3|\n",
      "|2020-01-02 09:00:00|   1|  null|   null|              86.8|      1|\n",
      "|2020-01-02 15:00:00|   1|  null|   null|246.60000000000002|      2|\n",
      "|2020-01-02 18:00:00|   1|  null|   null|             389.5|      4|\n",
      "|2020-01-03 00:00:00|   1|  null|   null|             84.96|      1|\n",
      "|2020-01-03 02:00:00|   1|  null|   null|             121.6|      2|\n",
      "|2020-01-03 06:00:00|   1|  null|   null|            174.36|      1|\n",
      "|2020-01-03 12:00:00|   1|  null|   null|               3.3|      1|\n",
      "|2020-01-03 19:00:00|   1|  null|   null|            284.32|      3|\n",
      "|2020-01-03 20:00:00|   1|  null|   null|              80.8|      1|\n",
      "|2020-01-04 02:00:00|   1|  null|   null|              85.3|      1|\n",
      "|2020-01-04 14:00:00|   1|  null|   null|            391.32|      3|\n",
      "|2020-01-04 18:00:00|   1|  null|   null|             161.3|      1|\n",
      "+-------------------+----+------+-------+------------------+-------+\n",
      "only showing top 20 rows\n",
      "\n"
     ]
    },
    {
     "name": "stderr",
     "output_type": "stream",
     "text": [
      "\r",
      "                                                                                \r"
     ]
    }
   ],
   "source": [
    "df_join.show()"
   ]
  },
  {
   "cell_type": "code",
   "execution_count": 13,
   "id": "7a00dd4e",
   "metadata": {},
   "outputs": [],
   "source": [
    "df_green_revenue_tmp = df_green_revenue.withColumnRenamed('amount', 'green_amount').withColumnRenamed('records', 'green_records')\n",
    "\n",
    "df_yellow_revenue_tmp = df_yellow_revenue.withColumnRenamed('amount', 'yellow_amount').withColumnRenamed('records', 'yellow_records')\n"
   ]
  },
  {
   "cell_type": "code",
   "execution_count": 14,
   "id": "20a32d8f",
   "metadata": {},
   "outputs": [],
   "source": [
    "df_join = df_green_revenue_tmp.join(df_yellow_revenue_tmp, on=['hour', 'zone'], how='outer')"
   ]
  },
  {
   "cell_type": "code",
   "execution_count": 15,
   "id": "0c37e18b",
   "metadata": {},
   "outputs": [
    {
     "data": {
      "text/plain": [
       "DataFrame[hour: timestamp, zone: int, green_amount: double, green_records: bigint, yellow_amount: double, yellow_records: bigint]"
      ]
     },
     "execution_count": 15,
     "metadata": {},
     "output_type": "execute_result"
    }
   ],
   "source": [
    "df_join"
   ]
  },
  {
   "cell_type": "code",
   "execution_count": 16,
   "id": "837a1f3a",
   "metadata": {},
   "outputs": [
    {
     "name": "stderr",
     "output_type": "stream",
     "text": [
      "                                                                                \r"
     ]
    }
   ],
   "source": [
    "df_join.write.parquet('data/report/revenue/total')"
   ]
  },
  {
   "cell_type": "code",
   "execution_count": 17,
   "id": "31e0d37f",
   "metadata": {},
   "outputs": [],
   "source": [
    "df_join = spark.read.parquet('data/report/revenue/total/')"
   ]
  },
  {
   "cell_type": "code",
   "execution_count": 18,
   "id": "9c589871",
   "metadata": {},
   "outputs": [
    {
     "name": "stdout",
     "output_type": "stream",
     "text": [
      "+-------------------+----+------------+-------------+------------------+--------------+\n",
      "|               hour|zone|green_amount|green_records|     yellow_amount|yellow_records|\n",
      "+-------------------+----+------------+-------------+------------------+--------------+\n",
      "|2020-01-01 06:00:00|   1|        null|         null|            445.28|             4|\n",
      "|2020-01-01 10:00:00|   1|        null|         null|             100.6|             2|\n",
      "|2020-01-01 14:00:00|   1|        null|         null|             239.5|             3|\n",
      "|2020-01-01 16:00:00|   1|        null|         null|            574.02|             6|\n",
      "|2020-01-01 19:00:00|   1|        null|         null|             96.35|             1|\n",
      "|2020-01-02 07:00:00|   1|        null|         null|             95.82|             1|\n",
      "|2020-01-02 08:00:00|   1|        null|         null|               0.0|             2|\n",
      "|2020-01-02 14:00:00|   1|        null|         null|            628.52|             6|\n",
      "|2020-01-03 14:00:00|   1|        null|         null|447.39000000000004|             5|\n",
      "|2020-01-03 22:00:00|   1|        null|         null|             245.3|             2|\n",
      "|2020-01-04 05:00:00|   1|        null|         null|              45.8|             1|\n",
      "|2020-01-04 16:00:00|   1|        null|         null|            483.66|             4|\n",
      "|2020-01-04 17:00:00|   1|        null|         null|              94.3|             1|\n",
      "|2020-01-05 14:00:00|   1|        null|         null|            126.36|             1|\n",
      "|2020-01-05 18:00:00|   1|        null|         null|            302.56|             3|\n",
      "|2020-01-05 19:00:00|   1|        null|         null|             311.1|             2|\n",
      "|2020-01-07 17:00:00|   1|        null|         null|            261.95|             5|\n",
      "|2020-01-08 09:00:00|   1|        null|         null|              93.9|             1|\n",
      "|2020-01-09 13:00:00|   1|        null|         null|             105.8|             1|\n",
      "|2020-01-09 14:00:00|   1|        null|         null|            303.76|             3|\n",
      "+-------------------+----+------------+-------------+------------------+--------------+\n",
      "only showing top 20 rows\n",
      "\n"
     ]
    }
   ],
   "source": [
    "df_join.show()"
   ]
  },
  {
   "cell_type": "code",
   "execution_count": 19,
   "id": "aa4fa30b",
   "metadata": {},
   "outputs": [],
   "source": [
    "df_zones = spark.read.parquet('zones/')"
   ]
  },
  {
   "cell_type": "code",
   "execution_count": 20,
   "id": "bbcf5710",
   "metadata": {},
   "outputs": [],
   "source": [
    "df_result = df_join.join(df_zones, df_join.zone == df_zones.LocationID)"
   ]
  },
  {
   "cell_type": "code",
   "execution_count": 21,
   "id": "1e16bbf3",
   "metadata": {},
   "outputs": [
    {
     "name": "stdout",
     "output_type": "stream",
     "text": [
      "+-------------------+----+------------+-------------+------------------+--------------+----------+-------+--------------+------------+\n",
      "|               hour|zone|green_amount|green_records|     yellow_amount|yellow_records|LocationID|Borough|          Zone|service_zone|\n",
      "+-------------------+----+------------+-------------+------------------+--------------+----------+-------+--------------+------------+\n",
      "|2020-01-01 06:00:00|   1|        null|         null|            445.28|             4|         1|    EWR|Newark Airport|         EWR|\n",
      "|2020-01-01 10:00:00|   1|        null|         null|             100.6|             2|         1|    EWR|Newark Airport|         EWR|\n",
      "|2020-01-01 14:00:00|   1|        null|         null|             239.5|             3|         1|    EWR|Newark Airport|         EWR|\n",
      "|2020-01-01 16:00:00|   1|        null|         null|            574.02|             6|         1|    EWR|Newark Airport|         EWR|\n",
      "|2020-01-01 19:00:00|   1|        null|         null|             96.35|             1|         1|    EWR|Newark Airport|         EWR|\n",
      "|2020-01-02 07:00:00|   1|        null|         null|             95.82|             1|         1|    EWR|Newark Airport|         EWR|\n",
      "|2020-01-02 08:00:00|   1|        null|         null|               0.0|             2|         1|    EWR|Newark Airport|         EWR|\n",
      "|2020-01-02 14:00:00|   1|        null|         null|            628.52|             6|         1|    EWR|Newark Airport|         EWR|\n",
      "|2020-01-03 14:00:00|   1|        null|         null|447.39000000000004|             5|         1|    EWR|Newark Airport|         EWR|\n",
      "|2020-01-03 22:00:00|   1|        null|         null|             245.3|             2|         1|    EWR|Newark Airport|         EWR|\n",
      "|2020-01-04 05:00:00|   1|        null|         null|              45.8|             1|         1|    EWR|Newark Airport|         EWR|\n",
      "|2020-01-04 16:00:00|   1|        null|         null|            483.66|             4|         1|    EWR|Newark Airport|         EWR|\n",
      "|2020-01-04 17:00:00|   1|        null|         null|              94.3|             1|         1|    EWR|Newark Airport|         EWR|\n",
      "|2020-01-05 14:00:00|   1|        null|         null|            126.36|             1|         1|    EWR|Newark Airport|         EWR|\n",
      "|2020-01-05 18:00:00|   1|        null|         null|            302.56|             3|         1|    EWR|Newark Airport|         EWR|\n",
      "|2020-01-05 19:00:00|   1|        null|         null|             311.1|             2|         1|    EWR|Newark Airport|         EWR|\n",
      "|2020-01-07 17:00:00|   1|        null|         null|            261.95|             5|         1|    EWR|Newark Airport|         EWR|\n",
      "|2020-01-08 09:00:00|   1|        null|         null|              93.9|             1|         1|    EWR|Newark Airport|         EWR|\n",
      "|2020-01-09 13:00:00|   1|        null|         null|             105.8|             1|         1|    EWR|Newark Airport|         EWR|\n",
      "|2020-01-09 14:00:00|   1|        null|         null|            303.76|             3|         1|    EWR|Newark Airport|         EWR|\n",
      "+-------------------+----+------------+-------------+------------------+--------------+----------+-------+--------------+------------+\n",
      "only showing top 20 rows\n",
      "\n"
     ]
    }
   ],
   "source": [
    "df_result.show()"
   ]
  },
  {
   "cell_type": "code",
   "execution_count": 22,
   "id": "b84105df",
   "metadata": {},
   "outputs": [
    {
     "name": "stderr",
     "output_type": "stream",
     "text": [
      "                                                                                \r"
     ]
    }
   ],
   "source": [
    "df_result.drop('LocationID', 'zone').write.parquet('tmp/revenue-zones')"
   ]
  },
  {
   "cell_type": "code",
   "execution_count": null,
   "id": "6258b29f",
   "metadata": {},
   "outputs": [],
   "source": []
  }
 ],
 "metadata": {
  "kernelspec": {
   "display_name": "Python 3 (ipykernel)",
   "language": "python",
   "name": "python3"
  },
  "language_info": {
   "codemirror_mode": {
    "name": "ipython",
    "version": 3
   },
   "file_extension": ".py",
   "mimetype": "text/x-python",
   "name": "python",
   "nbconvert_exporter": "python",
   "pygments_lexer": "ipython3",
   "version": "3.9.13"
  }
 },
 "nbformat": 4,
 "nbformat_minor": 5
}
